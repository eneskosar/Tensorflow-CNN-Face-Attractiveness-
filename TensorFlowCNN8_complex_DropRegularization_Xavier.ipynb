{
  "nbformat": 4,
  "nbformat_minor": 0,
  "metadata": {
    "colab": {
      "name": "TensorFlowCNN8_complex_DropRegularization_Xavier.ipynb",
      "provenance": [],
      "collapsed_sections": [
        "b7hhGnXvhQcH"
      ],
      "machine_shape": "hm",
      "authorship_tag": "ABX9TyOV2grC0yYx636XaYeryuhf",
      "include_colab_link": true
    },
    "kernelspec": {
      "name": "python3",
      "display_name": "Python 3"
    }
  },
  "cells": [
    {
      "cell_type": "markdown",
      "metadata": {
        "id": "view-in-github",
        "colab_type": "text"
      },
      "source": [
        "<a href=\"https://colab.research.google.com/github/eneskosar/Tensorflow-CNN-Face-Attractiveness-/blob/master/TensorFlowCNN8_complex_DropRegularization_Xavier.ipynb\" target=\"_parent\"><img src=\"https://colab.research.google.com/assets/colab-badge.svg\" alt=\"Open In Colab\"/></a>"
      ]
    },
    {
      "cell_type": "markdown",
      "metadata": {
        "id": "b7hhGnXvhQcH",
        "colab_type": "text"
      },
      "source": [
        "# Imports"
      ]
    },
    {
      "cell_type": "code",
      "metadata": {
        "id": "VyAsADvF5yNj",
        "colab_type": "code",
        "colab": {
          "base_uri": "https://localhost:8080/",
          "height": 51
        },
        "outputId": "52bb4b35-aeb4-4217-f29a-3fbd899fc148"
      },
      "source": [
        "%tensorflow_version 1.x\n",
        "import tensorflow as tf\n",
        "import numpy as np\n",
        "import matplotlib.pyplot as plt\n",
        "%matplotlib inline\n",
        "import time\n",
        "\n",
        "import os\n",
        "import matplotlib.pyplot as plt\n",
        "import matplotlib.image as mpimg\n",
        "import random\n",
        "\n",
        "print(tf.__version__)\n"
      ],
      "execution_count": null,
      "outputs": [
        {
          "output_type": "stream",
          "text": [
            "TensorFlow 1.x selected.\n",
            "1.15.2\n"
          ],
          "name": "stdout"
        }
      ]
    },
    {
      "cell_type": "markdown",
      "metadata": {
        "id": "_jJ9sbuTDfKH",
        "colab_type": "text"
      },
      "source": [
        "# My Data"
      ]
    },
    {
      "cell_type": "code",
      "metadata": {
        "id": "Sx8PRaHjXn5A",
        "colab_type": "code",
        "colab": {}
      },
      "source": [
        "from google.colab import drive\n",
        "drive.mount('/content/gdrive/')"
      ],
      "execution_count": null,
      "outputs": []
    },
    {
      "cell_type": "code",
      "metadata": {
        "id": "PbHlOs3tXsW_",
        "colab_type": "code",
        "colab": {}
      },
      "source": [
        "trainDirectory = '/content/gdrive/My Drive/Colab Notebooks/DeepLearningHomework/training/'\n",
        "validationDirectory = '/content/gdrive/My Drive/Colab Notebooks/DeepLearningHomework/validation/'\n",
        "testDirectory = '/content/gdrive/My Drive/Colab Notebooks/DeepLearningHomework/test/'"
      ],
      "execution_count": null,
      "outputs": []
    },
    {
      "cell_type": "code",
      "metadata": {
        "id": "-V3mycjMm8xf",
        "colab_type": "code",
        "colab": {}
      },
      "source": [
        "trainImageNames = os.listdir(trainDirectory)\n",
        "validationImageNames = os.listdir(validationDirectory)\n",
        "testImageNames = os.listdir(testDirectory)"
      ],
      "execution_count": null,
      "outputs": []
    },
    {
      "cell_type": "markdown",
      "metadata": {
        "id": "K_szTeNBCmzK",
        "colab_type": "text"
      },
      "source": [
        ""
      ]
    },
    {
      "cell_type": "code",
      "metadata": {
        "id": "2mKJkS6wX1rY",
        "colab_type": "code",
        "colab": {}
      },
      "source": [
        "random.shuffle(trainImageNames)\n",
        "random.shuffle(validationImageNames)\n",
        "random.shuffle(testImageNames)\n",
        "\n",
        "testLabels = np.zeros((len(testImageNames), 1))\n",
        "validationLabels = np.zeros((len(validationImageNames), 1))\n",
        "trainLabels = np.zeros((len(trainImageNames), 1))\n",
        "\n",
        "trainLabels2 = [x[0] for x in trainImageNames]\n",
        "validationLabels2 = [x[0] for x in validationImageNames]\n",
        "testLabels2 = [x[0] for x in testImageNames]\n",
        "\n",
        "i = 0\n",
        "for names in trainImageNames:\n",
        "  trainLabels[i] = trainLabels2[i]    \n",
        "  i +=1\n",
        "\n",
        "i = 0\n",
        "for names in validationImageNames:\n",
        "  validationLabels[i] = validationLabels2[i]    \n",
        "  i +=1\n",
        "\n",
        "i = 0\n",
        "for names in testImageNames:\n",
        "  testLabels[i] = testLabels2[i]    \n",
        "  i +=1\n",
        "\n",
        "trainLabels = np.float32(trainLabels)\n",
        "validationLabels = np.float32(validationLabels)\n",
        "testLabels = np.float32(testLabels)"
      ],
      "execution_count": null,
      "outputs": []
    },
    {
      "cell_type": "code",
      "metadata": {
        "id": "51fRMHiFEQ0I",
        "colab_type": "code",
        "colab": {}
      },
      "source": [
        "testData = np.zeros((len(testImageNames), 80*80*3))\n",
        "validationData = np.zeros((len(validationImageNames), 80*80*3))\n",
        "trainData = np.zeros((len(trainImageNames), 80*80*3))\n",
        "\n",
        "i = 0\n",
        "for names in trainImageNames:\n",
        "  trainData[i] = mpimg.imread(trainDirectory + names).flatten()    \n",
        "  i +=1\n",
        "trainData = trainData.astype(np.float32)\n",
        "\n",
        "i = 0\n",
        "for names in validationImageNames:\n",
        "  validationData[i] = mpimg.imread(validationDirectory + names).flatten()    \n",
        "  i +=1\n",
        "validationData = validationData.astype(np.float32)\n",
        "\n",
        "i = 0\n",
        "for names in testImageNames:\n",
        "  testData[i] = mpimg.imread(testDirectory + names).flatten()    \n",
        "  i +=1\n",
        "testData = testData.astype(np.float32)"
      ],
      "execution_count": null,
      "outputs": []
    },
    {
      "cell_type": "markdown",
      "metadata": {
        "id": "t30QTPVl6OJ7",
        "colab_type": "text"
      },
      "source": [
        "# CNN Implementation"
      ]
    },
    {
      "cell_type": "code",
      "metadata": {
        "id": "Wf3MqshF6Zgi",
        "colab_type": "code",
        "colab": {}
      },
      "source": [
        "#optimization variables\n",
        "\n",
        "epochNumber = 20\n",
        "learningRate = 0.0001\n",
        "batchSize = 100\n",
        "beta = 0.01\n",
        "\n",
        "# input\n",
        "x = tf.placeholder(tf.float32, [None, 80*80*3])\n",
        "# dynamically reshape the input\n",
        "x_shaped = tf.reshape(x, [-1, 80, 80, 3])\n",
        "# output  \n",
        "y = tf.placeholder(tf.float32, [None, 1])\n"
      ],
      "execution_count": null,
      "outputs": []
    },
    {
      "cell_type": "code",
      "metadata": {
        "id": "6rUyAQSE7j3e",
        "colab_type": "code",
        "colab": {}
      },
      "source": [
        "def create_conv_ReLu_Pooling_layers(input_data, num_input_channels, num_filters, filter_shape, pool_shape, name):\n",
        "    # setup the filter input shape for tf.nn.conv_2d\n",
        "    conv_filt_shape = [filter_shape[0], filter_shape[1], num_input_channels,\n",
        "                      num_filters]\n",
        "\n",
        "    # initialise weights and bias for the filter\n",
        "    weights = tf.Variable(tf.truncated_normal(conv_filt_shape, stddev=0.03),\n",
        "                                      name=name+'_W')\n",
        "    bias = tf.Variable(tf.truncated_normal([num_filters]), name=name+'_b')\n",
        "\n",
        "    # setup the convolutional layer operation\n",
        "    out_layer = tf.nn.conv2d(input_data, weights, [1, 1, 1, 1], padding='SAME')\n",
        "\n",
        "    # add the bias\n",
        "    out_layer += bias\n",
        "\n",
        "    # apply a ReLU non-linear activation\n",
        "    out_layer = tf.nn.relu(out_layer)\n",
        "\n",
        "    # now perform max pooling\n",
        "    ksize = [1, pool_shape[0], pool_shape[1], 1]\n",
        "    strides = [1, 2, 2, 1]\n",
        "    out_layer = tf.nn.max_pool(out_layer, ksize=ksize, strides=strides, \n",
        "                               padding='SAME')\n",
        "\n",
        "    return out_layer"
      ],
      "execution_count": null,
      "outputs": []
    },
    {
      "cell_type": "code",
      "metadata": {
        "id": "FcHtOCkV9cSd",
        "colab_type": "code",
        "colab": {}
      },
      "source": [
        "# create some convolutional layers\n",
        "layer1 = create_conv_ReLu_Pooling_layers(x_shaped, 3, 18, [5, 5], [2, 2], name='layer1')\n",
        "layer2 = create_conv_ReLu_Pooling_layers(layer1, 18, 72, [5, 5], [2, 2], name='layer2')\n",
        "layer3 = create_conv_ReLu_Pooling_layers(layer2, 72, 288, [3, 3], [2, 2], name='layer3')\n",
        "layer4 = create_conv_ReLu_Pooling_layers(layer3, 288, 576, [3, 3], [2, 2], name='layer4')"
      ],
      "execution_count": null,
      "outputs": []
    },
    {
      "cell_type": "code",
      "metadata": {
        "id": "BwpHf7wZ-mQk",
        "colab_type": "code",
        "colab": {}
      },
      "source": [
        "flattened = tf.reshape(layer4, [-1, 5 * 5 *3*6*4*4*2])\n"
      ],
      "execution_count": null,
      "outputs": []
    },
    {
      "cell_type": "code",
      "metadata": {
        "id": "4o8DOqF2-2T9",
        "colab_type": "code",
        "colab": {}
      },
      "source": [
        "# setup some weights and bias values for this layer, then activate with ReLU\n",
        "wd1 = tf.Variable(tf.truncated_normal([5*5*3*6*4*4*2 , 2000], stddev= (2.0/ (5*5*3*6*4*4*2+2000))), name='wd1')\n",
        "bd1 = tf.Variable(tf.truncated_normal([2000], stddev=0.01), name='bd1')\n",
        "dense_layer1 = tf.matmul(flattened, wd1) + bd1\n",
        "dense_layer1 = tf.nn.relu(dense_layer1)\n",
        "\n",
        "# Dropout on hidden layer: RELU layer\n",
        "keep_prob = tf.placeholder(tf.float32)\n",
        "dense_layer1_dropout = tf.nn.dropout(dense_layer1, keep_prob)"
      ],
      "execution_count": null,
      "outputs": []
    },
    {
      "cell_type": "code",
      "metadata": {
        "id": "hcv5D1rou7_l",
        "colab_type": "code",
        "colab": {}
      },
      "source": [
        "wd2 = tf.Variable(tf.truncated_normal([2000, 100], stddev=(2.0/(2000+100))), name='wd2')\n",
        "bd2 = tf.Variable(tf.truncated_normal([100], stddev=0.01), name='bd2')\n",
        "dense_layer2 = tf.matmul(dense_layer1_dropout, wd2) + bd2\n",
        "dense_layer2 = tf.nn.relu(dense_layer2)\n",
        "\n",
        "#keep_prob = tf.placeholder(\"float\")\n",
        "dense_layer2_dropout = tf.nn.dropout(dense_layer2, keep_prob)"
      ],
      "execution_count": null,
      "outputs": []
    },
    {
      "cell_type": "code",
      "metadata": {
        "id": "sKAT4feYvgTz",
        "colab_type": "code",
        "colab": {}
      },
      "source": [
        "wd3 = tf.Variable(tf.truncated_normal([100, 10], stddev=(2/(100+10))), name='wd3')\n",
        "bd3 = tf.Variable(tf.truncated_normal([10], stddev=0.01), name='bd3')\n",
        "dense_layer3 = tf.matmul(dense_layer2_dropout, wd3) + bd3\n",
        "dense_layer3 = tf.nn.relu(dense_layer3)\n",
        "\n",
        "dense_layer3_dropout = tf.nn.dropout(dense_layer3, keep_prob)"
      ],
      "execution_count": null,
      "outputs": []
    },
    {
      "cell_type": "code",
      "metadata": {
        "id": "5ut6D_-q_kb3",
        "colab_type": "code",
        "colab": {}
      },
      "source": [
        "wd4 = tf.Variable(tf.truncated_normal([10, 1], stddev=(2/(10+1))), name='wd4')\n",
        "bd4 = tf.Variable(tf.truncated_normal([1], stddev=0.01), name='bd4')\n",
        "dense_layer4 = tf.matmul(dense_layer3_dropout, wd4) + bd4\n",
        "y_ = 8*tf.nn.sigmoid(dense_layer4)\n",
        "\n"
      ],
      "execution_count": null,
      "outputs": []
    },
    {
      "cell_type": "code",
      "metadata": {
        "id": "rP0wTOkYA8_m",
        "colab_type": "code",
        "colab": {}
      },
      "source": [
        "#MSE = tf.metrics.mean_squared_error(labels=y, predictions=y_ )\n",
        "MSE = tf.reduce_mean(tf.square(y_ - y))\n",
        "\n"
      ],
      "execution_count": null,
      "outputs": []
    },
    {
      "cell_type": "code",
      "metadata": {
        "id": "gVIBgcP7joxh",
        "colab_type": "code",
        "colab": {}
      },
      "source": [
        "MAE = tf.reduce_mean(tf.abs(y-tf.math.round(y_)))"
      ],
      "execution_count": null,
      "outputs": []
    },
    {
      "cell_type": "code",
      "metadata": {
        "id": "V8r5_v8PByI2",
        "colab_type": "code",
        "colab": {}
      },
      "source": [
        "# add an optimiser\n",
        "#optimiser = tf.train.GradientDescentOptimizer(0.0001).minimize(MSE)\n",
        "optimiser = tf.train.AdamOptimizer(learning_rate=learningRate).minimize(MSE)\n",
        "\n",
        "\n",
        "# setup the initialisation operator\n",
        "init_op = tf.global_variables_initializer()\n",
        "\n",
        "with tf.Session() as sess:\n",
        "    # initialise the variables\n",
        "    sess.run(init_op)\n",
        "    total_batch = int(len(trainLabels) / batchSize)\n",
        "    start_time = time.time()\n",
        "    train_MAE_EpochArray = np.zeros(epochNumber)\n",
        "    validate_MAE_EpochArray = np.zeros(epochNumber)\n",
        "    \n",
        "    for epoch in range(epochNumber):\n",
        "        epoch_start_time = time.time()\n",
        "        avg_cost = 0\n",
        "        totalTrainMae = 0\n",
        "        totalValidateMae = 0\n",
        "        for batch in range(0, int(len(trainLabels) /batchSize)):\n",
        "            x_batch = trainData[batch*batchSize:(batch+1)*batchSize,:]  \n",
        "            y_batch = trainLabels[batch*batchSize:(batch+1)*batchSize]  \n",
        "            \n",
        "            feed_dict_train = {x: x_batch, y: y_batch}\n",
        "\n",
        "            #_, c , TrainMae, pred = sess.run([optimiser, MSE, MAE, y_], \n",
        "            #                feed_dict={x: x_batch, y: y_batch})\n",
        "            \n",
        "            _= sess.run([optimiser], \n",
        "                            feed_dict={keep_prob : 0.75, x: x_batch, y: y_batch})\n",
        "            \n",
        "            #avg_cost += c / total_batch\n",
        "            print(\"batch:\", (batch + 1), \"mae =\", \"{:.3f}\".format(8.0))\n",
        "            #ValidateMae= sess.run(MAE, feed_dict={x: validationData, y: validationLabels})\n",
        "            #print(ValidateMae)\n",
        "            #totalTrainMae += TrainMae/35.6\n",
        "            #totalValidateMae += ValidateMae/35.0\n",
        "            \n",
        "        ValidateMae= sess.run(MAE, feed_dict={keep_prob : 1.0, x: validationData, y: validationLabels})\n",
        "        totalTrainMae= sess.run(MAE, feed_dict={keep_prob : 0.75, x: trainData, y: trainLabels})\n",
        "        print(\"Epoch:\", (epoch + 1), \"cost =\", \"{:.3f}\".format(avg_cost)  )\n",
        "        print(\"Epoch:\", (epoch + 1), \"training error for this epoch =\", \"{:.3f}\".format(totalTrainMae))\n",
        "        print(\"Epoch:\", (epoch + 1), \"validation error for this epoch =\", \"{:.3f}\".format(ValidateMae))\n",
        "        train_MAE_EpochArray[epoch] = totalTrainMae\n",
        "        validate_MAE_EpochArray[epoch] = ValidateMae\n",
        "\n",
        "        epoch_end_time = time.time()\n",
        "        epochPeriod = epoch_end_time-epoch_start_time\n",
        "        print(\"Total time passed: \")\n",
        "        print(epochPeriod)\n",
        "        \n",
        "    print(\"\\nTraining complete!\")\n",
        "    end_time = time.time()\n",
        "    print(\"Total time passed: \")\n",
        "    totalPeriod = end_time-start_time\n",
        "    print(totalPeriod)\n",
        "    mae= sess.run([MAE], feed_dict={keep_prob : 1.0, x: validationData, y: validationLabels})\n",
        "    print(\"Vlidation error is : \")\n",
        "    print(mae)\n",
        "    mae= sess.run([MAE], feed_dict={keep_prob : 1.0, x: testData, y: testLabels})\n",
        "    print(mae)\n"
      ],
      "execution_count": null,
      "outputs": []
    },
    {
      "cell_type": "code",
      "metadata": {
        "id": "oCLnrlEKv4QZ",
        "colab_type": "code",
        "colab": {
          "base_uri": "https://localhost:8080/",
          "height": 295
        },
        "outputId": "7d54e5bd-beec-4937-e2eb-4fadc16ecc32"
      },
      "source": [
        "    \n",
        "    plt.plot(range(epochNumber), train_MAE_EpochArray, label = \"training error\") \n",
        "    plt.plot(range(epochNumber), validate_MAE_EpochArray, label = \"validation error\")  \n",
        "    plt.ylim([0,2.0])\n",
        "    plt.xlabel('epoch number') \n",
        "    plt.ylabel('Mean Absolute Error') \n",
        "    plt.title('Error vs Epoch') \n",
        "    plt.legend()   \n",
        "    plt.show()"
      ],
      "execution_count": null,
      "outputs": [
        {
          "output_type": "display_data",
          "data": {
            "image/png": "[encoded data removed]",
            "text/plain": [
              "<Figure size 432x288 with 1 Axes>"
            ]
          },
          "metadata": {
            "tags": [],
            "needs_background": "light"
          }
        }
      ]
    },
    {
      "cell_type": "code",
      "metadata": {
        "id": "0UTr2kPQ9A0D",
        "colab_type": "code",
        "colab": {
          "base_uri": "https://localhost:8080/",
          "height": 350
        },
        "outputId": "7844fc58-893b-410a-992b-2c36b17769e4"
      },
      "source": [
        "    #prediction= sess.run([y_], feed_dict={keep_prob : 1.0, x: testData[1], y: testLabels[1]})\n",
        "    #print(prediction)\n",
        "\n",
        "init_op = tf.global_variables_initializer()\n",
        "with tf.Session() as sess:\n",
        "    sess.run(init_op)\n",
        "    prediction= sess.run(y_, feed_dict={keep_prob : 1.0, x: testData[1:8,:], y: testLabels[1:8]})\n",
        "\n",
        "    print(prediction)  \n",
        "    print(testImageNames[1:8])\n",
        "    plt.imshow(testData[1:8,:].reshape([80, 80, 3])/255)\n",
        "    plt.show()"
      ],
      "execution_count": null,
      "outputs": [
        {
          "output_type": "stream",
          "text": [
            "[[4.0128465]\n",
            " [4.0128255]\n",
            " [4.0128274]\n",
            " [4.0128384]\n",
            " [4.012825 ]\n",
            " [4.01283  ]\n",
            " [4.0128293]]\n",
            "['4_AM967.jpg', '3_CM285.jpg', '4_AF908.jpg', '2_AF884.jpg', '5_CF747.jpg', '4_AF1281.jpg', '4_AM563.jpg']\n"
          ],
          "name": "stdout"
        },
        {
          "output_type": "error",
          "ename": "ValueError",
          "evalue": "ignored",
          "traceback": [
            "\u001b[0;31m---------------------------------------------------------------------------\u001b[0m",
            "\u001b[0;31mValueError\u001b[0m                                Traceback (most recent call last)",
            "\u001b[0;32m<ipython-input-88-f2a0f83dc1f4>\u001b[0m in \u001b[0;36m<module>\u001b[0;34m()\u001b[0m\n\u001b[1;32m      7\u001b[0m     \u001b[0mprint\u001b[0m\u001b[0;34m(\u001b[0m\u001b[0mprediction\u001b[0m\u001b[0;34m)\u001b[0m\u001b[0;34m\u001b[0m\u001b[0;34m\u001b[0m\u001b[0m\n\u001b[1;32m      8\u001b[0m     \u001b[0mprint\u001b[0m\u001b[0;34m(\u001b[0m\u001b[0mtestImageNames\u001b[0m\u001b[0;34m[\u001b[0m\u001b[0;36m1\u001b[0m\u001b[0;34m:\u001b[0m\u001b[0;36m8\u001b[0m\u001b[0;34m]\u001b[0m\u001b[0;34m)\u001b[0m\u001b[0;34m\u001b[0m\u001b[0;34m\u001b[0m\u001b[0m\n\u001b[0;32m----> 9\u001b[0;31m     \u001b[0mplt\u001b[0m\u001b[0;34m.\u001b[0m\u001b[0mimshow\u001b[0m\u001b[0;34m(\u001b[0m\u001b[0mtestData\u001b[0m\u001b[0;34m[\u001b[0m\u001b[0;36m1\u001b[0m\u001b[0;34m:\u001b[0m\u001b[0;36m8\u001b[0m\u001b[0;34m,\u001b[0m\u001b[0;34m:\u001b[0m\u001b[0;34m]\u001b[0m\u001b[0;34m.\u001b[0m\u001b[0mreshape\u001b[0m\u001b[0;34m(\u001b[0m\u001b[0;34m[\u001b[0m\u001b[0;36m80\u001b[0m\u001b[0;34m,\u001b[0m \u001b[0;36m80\u001b[0m\u001b[0;34m,\u001b[0m \u001b[0;36m3\u001b[0m\u001b[0;34m]\u001b[0m\u001b[0;34m)\u001b[0m\u001b[0;34m/\u001b[0m\u001b[0;36m255\u001b[0m\u001b[0;34m)\u001b[0m\u001b[0;34m\u001b[0m\u001b[0;34m\u001b[0m\u001b[0m\n\u001b[0m\u001b[1;32m     10\u001b[0m     \u001b[0mplt\u001b[0m\u001b[0;34m.\u001b[0m\u001b[0mshow\u001b[0m\u001b[0;34m(\u001b[0m\u001b[0;34m)\u001b[0m\u001b[0;34m\u001b[0m\u001b[0;34m\u001b[0m\u001b[0m\n",
            "\u001b[0;31mValueError\u001b[0m: cannot reshape array of size 134400 into shape (80,80,3)"
          ]
        }
      ]
    },
    {
      "cell_type": "code",
      "metadata": {
        "id": "6GZQMxvTb4oJ",
        "colab_type": "code",
        "colab": {
          "base_uri": "https://localhost:8080/",
          "height": 34
        },
        "outputId": "dc3802fd-0af8-403f-b2e7-e55a8e8f5846"
      },
      "source": [
        "print(beta)"
      ],
      "execution_count": null,
      "outputs": [
        {
          "output_type": "stream",
          "text": [
            "0.01\n"
          ],
          "name": "stdout"
        }
      ]
    },
    {
      "cell_type": "markdown",
      "metadata": {
        "id": "-5sGK5-z7AJ8",
        "colab_type": "text"
      },
      "source": [
        "# REFERENCE"
      ]
    },
    {
      "cell_type": "markdown",
      "metadata": {
        "id": "c0hd5eq17D4i",
        "colab_type": "text"
      },
      "source": [
        "https://adventuresinmachinelearning.com/convolutional-neural-networks-tutorial-tensorflow/"
      ]
    }
  ]
}